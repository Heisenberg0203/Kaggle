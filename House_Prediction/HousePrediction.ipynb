{
 "cells": [
  {
   "cell_type": "code",
   "execution_count": 850,
   "metadata": {},
   "outputs": [],
   "source": [
    "import pandas as pd\n",
    "import numpy as np\n",
    "import matplotlib.pyplot as plt"
   ]
  },
  {
   "cell_type": "code",
   "execution_count": 851,
   "metadata": {},
   "outputs": [
    {
     "name": "stderr",
     "output_type": "stream",
     "text": [
      "/Users/rushikesh/anaconda3/lib/python3.6/site-packages/ipykernel_launcher.py:4: FutureWarning: Sorting because non-concatenation axis is not aligned. A future version\n",
      "of pandas will change to not sort by default.\n",
      "\n",
      "To accept the future behavior, pass 'sort=False'.\n",
      "\n",
      "To retain the current behavior and silence the warning, pass 'sort=True'.\n",
      "\n",
      "  after removing the cwd from sys.path.\n"
     ]
    }
   ],
   "source": [
    "test = pd.read_csv('test.csv')\n",
    "train = pd.read_csv('train.csv')\n",
    "train['SalePrice'] = np.log1p(train['SalePrice'])\n",
    "combine = pd.concat([train,test])"
   ]
  },
  {
   "cell_type": "code",
   "execution_count": 852,
   "metadata": {},
   "outputs": [
    {
     "data": {
      "text/html": [
       "<div>\n",
       "<style scoped>\n",
       "    .dataframe tbody tr th:only-of-type {\n",
       "        vertical-align: middle;\n",
       "    }\n",
       "\n",
       "    .dataframe tbody tr th {\n",
       "        vertical-align: top;\n",
       "    }\n",
       "\n",
       "    .dataframe thead th {\n",
       "        text-align: right;\n",
       "    }\n",
       "</style>\n",
       "<table border=\"1\" class=\"dataframe\">\n",
       "  <thead>\n",
       "    <tr style=\"text-align: right;\">\n",
       "      <th></th>\n",
       "      <th>Id</th>\n",
       "      <th>MSSubClass</th>\n",
       "      <th>MSZoning</th>\n",
       "      <th>LotFrontage</th>\n",
       "      <th>LotArea</th>\n",
       "      <th>Street</th>\n",
       "      <th>Alley</th>\n",
       "      <th>LotShape</th>\n",
       "      <th>LandContour</th>\n",
       "      <th>Utilities</th>\n",
       "      <th>...</th>\n",
       "      <th>PoolArea</th>\n",
       "      <th>PoolQC</th>\n",
       "      <th>Fence</th>\n",
       "      <th>MiscFeature</th>\n",
       "      <th>MiscVal</th>\n",
       "      <th>MoSold</th>\n",
       "      <th>YrSold</th>\n",
       "      <th>SaleType</th>\n",
       "      <th>SaleCondition</th>\n",
       "      <th>SalePrice</th>\n",
       "    </tr>\n",
       "  </thead>\n",
       "  <tbody>\n",
       "    <tr>\n",
       "      <th>0</th>\n",
       "      <td>1</td>\n",
       "      <td>60</td>\n",
       "      <td>RL</td>\n",
       "      <td>65.0</td>\n",
       "      <td>8450</td>\n",
       "      <td>Pave</td>\n",
       "      <td>NaN</td>\n",
       "      <td>Reg</td>\n",
       "      <td>Lvl</td>\n",
       "      <td>AllPub</td>\n",
       "      <td>...</td>\n",
       "      <td>0</td>\n",
       "      <td>NaN</td>\n",
       "      <td>NaN</td>\n",
       "      <td>NaN</td>\n",
       "      <td>0</td>\n",
       "      <td>2</td>\n",
       "      <td>2008</td>\n",
       "      <td>WD</td>\n",
       "      <td>Normal</td>\n",
       "      <td>12.247699</td>\n",
       "    </tr>\n",
       "    <tr>\n",
       "      <th>1</th>\n",
       "      <td>2</td>\n",
       "      <td>20</td>\n",
       "      <td>RL</td>\n",
       "      <td>80.0</td>\n",
       "      <td>9600</td>\n",
       "      <td>Pave</td>\n",
       "      <td>NaN</td>\n",
       "      <td>Reg</td>\n",
       "      <td>Lvl</td>\n",
       "      <td>AllPub</td>\n",
       "      <td>...</td>\n",
       "      <td>0</td>\n",
       "      <td>NaN</td>\n",
       "      <td>NaN</td>\n",
       "      <td>NaN</td>\n",
       "      <td>0</td>\n",
       "      <td>5</td>\n",
       "      <td>2007</td>\n",
       "      <td>WD</td>\n",
       "      <td>Normal</td>\n",
       "      <td>12.109016</td>\n",
       "    </tr>\n",
       "    <tr>\n",
       "      <th>2</th>\n",
       "      <td>3</td>\n",
       "      <td>60</td>\n",
       "      <td>RL</td>\n",
       "      <td>68.0</td>\n",
       "      <td>11250</td>\n",
       "      <td>Pave</td>\n",
       "      <td>NaN</td>\n",
       "      <td>IR1</td>\n",
       "      <td>Lvl</td>\n",
       "      <td>AllPub</td>\n",
       "      <td>...</td>\n",
       "      <td>0</td>\n",
       "      <td>NaN</td>\n",
       "      <td>NaN</td>\n",
       "      <td>NaN</td>\n",
       "      <td>0</td>\n",
       "      <td>9</td>\n",
       "      <td>2008</td>\n",
       "      <td>WD</td>\n",
       "      <td>Normal</td>\n",
       "      <td>12.317171</td>\n",
       "    </tr>\n",
       "    <tr>\n",
       "      <th>3</th>\n",
       "      <td>4</td>\n",
       "      <td>70</td>\n",
       "      <td>RL</td>\n",
       "      <td>60.0</td>\n",
       "      <td>9550</td>\n",
       "      <td>Pave</td>\n",
       "      <td>NaN</td>\n",
       "      <td>IR1</td>\n",
       "      <td>Lvl</td>\n",
       "      <td>AllPub</td>\n",
       "      <td>...</td>\n",
       "      <td>0</td>\n",
       "      <td>NaN</td>\n",
       "      <td>NaN</td>\n",
       "      <td>NaN</td>\n",
       "      <td>0</td>\n",
       "      <td>2</td>\n",
       "      <td>2006</td>\n",
       "      <td>WD</td>\n",
       "      <td>Abnorml</td>\n",
       "      <td>11.849405</td>\n",
       "    </tr>\n",
       "    <tr>\n",
       "      <th>4</th>\n",
       "      <td>5</td>\n",
       "      <td>60</td>\n",
       "      <td>RL</td>\n",
       "      <td>84.0</td>\n",
       "      <td>14260</td>\n",
       "      <td>Pave</td>\n",
       "      <td>NaN</td>\n",
       "      <td>IR1</td>\n",
       "      <td>Lvl</td>\n",
       "      <td>AllPub</td>\n",
       "      <td>...</td>\n",
       "      <td>0</td>\n",
       "      <td>NaN</td>\n",
       "      <td>NaN</td>\n",
       "      <td>NaN</td>\n",
       "      <td>0</td>\n",
       "      <td>12</td>\n",
       "      <td>2008</td>\n",
       "      <td>WD</td>\n",
       "      <td>Normal</td>\n",
       "      <td>12.429220</td>\n",
       "    </tr>\n",
       "  </tbody>\n",
       "</table>\n",
       "<p>5 rows × 81 columns</p>\n",
       "</div>"
      ],
      "text/plain": [
       "   Id  MSSubClass MSZoning  LotFrontage  LotArea Street Alley LotShape  \\\n",
       "0   1          60       RL         65.0     8450   Pave   NaN      Reg   \n",
       "1   2          20       RL         80.0     9600   Pave   NaN      Reg   \n",
       "2   3          60       RL         68.0    11250   Pave   NaN      IR1   \n",
       "3   4          70       RL         60.0     9550   Pave   NaN      IR1   \n",
       "4   5          60       RL         84.0    14260   Pave   NaN      IR1   \n",
       "\n",
       "  LandContour Utilities  ... PoolArea PoolQC Fence MiscFeature MiscVal MoSold  \\\n",
       "0         Lvl    AllPub  ...        0    NaN   NaN         NaN       0      2   \n",
       "1         Lvl    AllPub  ...        0    NaN   NaN         NaN       0      5   \n",
       "2         Lvl    AllPub  ...        0    NaN   NaN         NaN       0      9   \n",
       "3         Lvl    AllPub  ...        0    NaN   NaN         NaN       0      2   \n",
       "4         Lvl    AllPub  ...        0    NaN   NaN         NaN       0     12   \n",
       "\n",
       "  YrSold  SaleType  SaleCondition  SalePrice  \n",
       "0   2008        WD         Normal  12.247699  \n",
       "1   2007        WD         Normal  12.109016  \n",
       "2   2008        WD         Normal  12.317171  \n",
       "3   2006        WD        Abnorml  11.849405  \n",
       "4   2008        WD         Normal  12.429220  \n",
       "\n",
       "[5 rows x 81 columns]"
      ]
     },
     "execution_count": 852,
     "metadata": {},
     "output_type": "execute_result"
    }
   ],
   "source": [
    "train.head()"
   ]
  },
  {
   "cell_type": "code",
   "execution_count": 853,
   "metadata": {},
   "outputs": [
    {
     "data": {
      "text/plain": [
       "((1460, 81), (1459, 80), (2919, 81))"
      ]
     },
     "execution_count": 853,
     "metadata": {},
     "output_type": "execute_result"
    }
   ],
   "source": [
    "train.shape,test.shape,combine.shape"
   ]
  },
  {
   "cell_type": "markdown",
   "metadata": {},
   "source": [
    "### Lets Drop SalePrice Column from combine dataset"
   ]
  },
  {
   "cell_type": "code",
   "execution_count": 854,
   "metadata": {},
   "outputs": [],
   "source": [
    "combine.drop('SalePrice',axis=1,inplace=True)"
   ]
  },
  {
   "cell_type": "code",
   "execution_count": 855,
   "metadata": {},
   "outputs": [
    {
     "data": {
      "text/plain": [
       "PoolQC          0.996574\n",
       "MiscFeature     0.964029\n",
       "Alley           0.932169\n",
       "Fence           0.804385\n",
       "FireplaceQu     0.486468\n",
       "LotFrontage     0.166495\n",
       "GarageQual      0.054471\n",
       "GarageFinish    0.054471\n",
       "GarageYrBlt     0.054471\n",
       "GarageCond      0.054471\n",
       "GarageType      0.053786\n",
       "BsmtCond        0.028092\n",
       "BsmtExposure    0.028092\n",
       "BsmtQual        0.027749\n",
       "BsmtFinType2    0.027407\n",
       "BsmtFinType1    0.027064\n",
       "MasVnrType      0.008222\n",
       "MasVnrArea      0.007879\n",
       "MSZoning        0.001370\n",
       "BsmtFullBath    0.000685\n",
       "BsmtHalfBath    0.000685\n",
       "Utilities       0.000685\n",
       "Functional      0.000685\n",
       "Electrical      0.000343\n",
       "Exterior2nd     0.000343\n",
       "KitchenQual     0.000343\n",
       "Exterior1st     0.000343\n",
       "GarageCars      0.000343\n",
       "TotalBsmtSF     0.000343\n",
       "GarageArea      0.000343\n",
       "BsmtUnfSF       0.000343\n",
       "BsmtFinSF2      0.000343\n",
       "BsmtFinSF1      0.000343\n",
       "SaleType        0.000343\n",
       "Condition2      0.000000\n",
       "dtype: float64"
      ]
     },
     "execution_count": 855,
     "metadata": {},
     "output_type": "execute_result"
    }
   ],
   "source": [
    "(combine.isnull().sum().sort_values(ascending=False)/combine.shape[0]).head(35)"
   ]
  },
  {
   "cell_type": "code",
   "execution_count": 856,
   "metadata": {},
   "outputs": [],
   "source": [
    "combine['PoolQC'] = combine['PoolQC'].notnull().astype(int)"
   ]
  },
  {
   "cell_type": "code",
   "execution_count": 857,
   "metadata": {},
   "outputs": [],
   "source": [
    "combine['MiscFeature'] = combine['MiscFeature'].notnull().astype(int)"
   ]
  },
  {
   "cell_type": "code",
   "execution_count": 858,
   "metadata": {},
   "outputs": [],
   "source": [
    "combine['Alley'] = combine['Alley'].notnull().astype(int)"
   ]
  },
  {
   "cell_type": "code",
   "execution_count": 859,
   "metadata": {},
   "outputs": [],
   "source": [
    "combine['Fence'] = combine['Fence'].notnull().astype(int)"
   ]
  },
  {
   "cell_type": "code",
   "execution_count": 860,
   "metadata": {},
   "outputs": [],
   "source": [
    "combine['FireplaceQu'] = combine['FireplaceQu'].notnull().astype(int)\n",
    "combine.drop('Fireplaces',axis=1,inplace=True)"
   ]
  },
  {
   "cell_type": "code",
   "execution_count": 861,
   "metadata": {},
   "outputs": [
    {
     "data": {
      "text/plain": [
       "LotFrontage     486\n",
       "GarageQual      159\n",
       "GarageYrBlt     159\n",
       "GarageCond      159\n",
       "GarageFinish    159\n",
       "GarageType      157\n",
       "BsmtCond         82\n",
       "BsmtExposure     82\n",
       "BsmtQual         81\n",
       "BsmtFinType2     80\n",
       "BsmtFinType1     79\n",
       "MasVnrType       24\n",
       "MasVnrArea       23\n",
       "MSZoning          4\n",
       "BsmtHalfBath      2\n",
       "Functional        2\n",
       "BsmtFullBath      2\n",
       "Utilities         2\n",
       "BsmtFinSF2        1\n",
       "BsmtUnfSF         1\n",
       "BsmtFinSF1        1\n",
       "SaleType          1\n",
       "GarageArea        1\n",
       "GarageCars        1\n",
       "TotalBsmtSF       1\n",
       "Electrical        1\n",
       "KitchenQual       1\n",
       "Exterior1st       1\n",
       "Exterior2nd       1\n",
       "Fence             0\n",
       "FullBath          0\n",
       "Foundation        0\n",
       "FireplaceQu       0\n",
       "YrSold            0\n",
       "ExterQual         0\n",
       "dtype: int64"
      ]
     },
     "execution_count": 861,
     "metadata": {},
     "output_type": "execute_result"
    }
   ],
   "source": [
    "(combine.isnull().sum().sort_values(ascending=False)).head(35)"
   ]
  },
  {
   "cell_type": "code",
   "execution_count": 862,
   "metadata": {},
   "outputs": [
    {
     "data": {
      "text/plain": [
       "count    2433.000000\n",
       "mean       69.305795\n",
       "std        23.344905\n",
       "min        21.000000\n",
       "25%        59.000000\n",
       "50%        68.000000\n",
       "75%        80.000000\n",
       "max       313.000000\n",
       "Name: LotFrontage, dtype: float64"
      ]
     },
     "execution_count": 862,
     "metadata": {},
     "output_type": "execute_result"
    }
   ],
   "source": [
    "combine['LotFrontage'].describe()"
   ]
  },
  {
   "cell_type": "markdown",
   "metadata": {},
   "source": [
    "### We would fillna of lotFrontage with mean values"
   ]
  },
  {
   "cell_type": "code",
   "execution_count": 863,
   "metadata": {},
   "outputs": [],
   "source": [
    "combine['LotFrontage'] = combine['LotFrontage'].fillna(np.mean(combine['LotFrontage']))"
   ]
  },
  {
   "cell_type": "code",
   "execution_count": 864,
   "metadata": {},
   "outputs": [
    {
     "data": {
      "text/html": [
       "<style  type=\"text/css\" >\n",
       "    #T_ca79c96e_8072_11e9_8616_3035ada66096row0_col0 {\n",
       "            background-color:  #023858;\n",
       "            color:  #f1f1f1;\n",
       "        }    #T_ca79c96e_8072_11e9_8616_3035ada66096row1_col0 {\n",
       "            background-color:  #046096;\n",
       "            color:  #f1f1f1;\n",
       "        }    #T_ca79c96e_8072_11e9_8616_3035ada66096row2_col0 {\n",
       "            background-color:  #0872b1;\n",
       "            color:  #f1f1f1;\n",
       "        }    #T_ca79c96e_8072_11e9_8616_3035ada66096row3_col0 {\n",
       "            background-color:  #1077b4;\n",
       "            color:  #f1f1f1;\n",
       "        }    #T_ca79c96e_8072_11e9_8616_3035ada66096row4_col0 {\n",
       "            background-color:  #197db7;\n",
       "            color:  #000000;\n",
       "        }    #T_ca79c96e_8072_11e9_8616_3035ada66096row5_col0 {\n",
       "            background-color:  #2786bb;\n",
       "            color:  #000000;\n",
       "        }    #T_ca79c96e_8072_11e9_8616_3035ada66096row6_col0 {\n",
       "            background-color:  #2c89bd;\n",
       "            color:  #000000;\n",
       "        }    #T_ca79c96e_8072_11e9_8616_3035ada66096row7_col0 {\n",
       "            background-color:  #2d8abd;\n",
       "            color:  #000000;\n",
       "        }    #T_ca79c96e_8072_11e9_8616_3035ada66096row8_col0 {\n",
       "            background-color:  #308cbe;\n",
       "            color:  #000000;\n",
       "        }    #T_ca79c96e_8072_11e9_8616_3035ada66096row9_col0 {\n",
       "            background-color:  #3790c0;\n",
       "            color:  #000000;\n",
       "        }    #T_ca79c96e_8072_11e9_8616_3035ada66096row10_col0 {\n",
       "            background-color:  #4295c3;\n",
       "            color:  #000000;\n",
       "        }    #T_ca79c96e_8072_11e9_8616_3035ada66096row11_col0 {\n",
       "            background-color:  #4496c3;\n",
       "            color:  #000000;\n",
       "        }    #T_ca79c96e_8072_11e9_8616_3035ada66096row12_col0 {\n",
       "            background-color:  #589ec8;\n",
       "            color:  #000000;\n",
       "        }    #T_ca79c96e_8072_11e9_8616_3035ada66096row13_col0 {\n",
       "            background-color:  #71a8ce;\n",
       "            color:  #000000;\n",
       "        }    #T_ca79c96e_8072_11e9_8616_3035ada66096row14_col0 {\n",
       "            background-color:  #86b0d3;\n",
       "            color:  #000000;\n",
       "        }    #T_ca79c96e_8072_11e9_8616_3035ada66096row15_col0 {\n",
       "            background-color:  #8cb3d5;\n",
       "            color:  #000000;\n",
       "        }    #T_ca79c96e_8072_11e9_8616_3035ada66096row16_col0 {\n",
       "            background-color:  #94b6d7;\n",
       "            color:  #000000;\n",
       "        }    #T_ca79c96e_8072_11e9_8616_3035ada66096row17_col0 {\n",
       "            background-color:  #99b8d8;\n",
       "            color:  #000000;\n",
       "        }    #T_ca79c96e_8072_11e9_8616_3035ada66096row18_col0 {\n",
       "            background-color:  #99b8d8;\n",
       "            color:  #000000;\n",
       "        }    #T_ca79c96e_8072_11e9_8616_3035ada66096row19_col0 {\n",
       "            background-color:  #9ab8d8;\n",
       "            color:  #000000;\n",
       "        }    #T_ca79c96e_8072_11e9_8616_3035ada66096row20_col0 {\n",
       "            background-color:  #adc1dd;\n",
       "            color:  #000000;\n",
       "        }    #T_ca79c96e_8072_11e9_8616_3035ada66096row21_col0 {\n",
       "            background-color:  #b4c4df;\n",
       "            color:  #000000;\n",
       "        }    #T_ca79c96e_8072_11e9_8616_3035ada66096row22_col0 {\n",
       "            background-color:  #b8c6e0;\n",
       "            color:  #000000;\n",
       "        }    #T_ca79c96e_8072_11e9_8616_3035ada66096row23_col0 {\n",
       "            background-color:  #bcc7e1;\n",
       "            color:  #000000;\n",
       "        }    #T_ca79c96e_8072_11e9_8616_3035ada66096row24_col0 {\n",
       "            background-color:  #d3d4e7;\n",
       "            color:  #000000;\n",
       "        }    #T_ca79c96e_8072_11e9_8616_3035ada66096row25_col0 {\n",
       "            background-color:  #dedcec;\n",
       "            color:  #000000;\n",
       "        }    #T_ca79c96e_8072_11e9_8616_3035ada66096row26_col0 {\n",
       "            background-color:  #e0deed;\n",
       "            color:  #000000;\n",
       "        }    #T_ca79c96e_8072_11e9_8616_3035ada66096row27_col0 {\n",
       "            background-color:  #e0deed;\n",
       "            color:  #000000;\n",
       "        }    #T_ca79c96e_8072_11e9_8616_3035ada66096row28_col0 {\n",
       "            background-color:  #eae6f1;\n",
       "            color:  #000000;\n",
       "        }    #T_ca79c96e_8072_11e9_8616_3035ada66096row29_col0 {\n",
       "            background-color:  #ece7f2;\n",
       "            color:  #000000;\n",
       "        }    #T_ca79c96e_8072_11e9_8616_3035ada66096row30_col0 {\n",
       "            background-color:  #eee8f3;\n",
       "            color:  #000000;\n",
       "        }    #T_ca79c96e_8072_11e9_8616_3035ada66096row31_col0 {\n",
       "            background-color:  #eee9f3;\n",
       "            color:  #000000;\n",
       "        }    #T_ca79c96e_8072_11e9_8616_3035ada66096row32_col0 {\n",
       "            background-color:  #f1ebf4;\n",
       "            color:  #000000;\n",
       "        }    #T_ca79c96e_8072_11e9_8616_3035ada66096row33_col0 {\n",
       "            background-color:  #f1ebf4;\n",
       "            color:  #000000;\n",
       "        }    #T_ca79c96e_8072_11e9_8616_3035ada66096row34_col0 {\n",
       "            background-color:  #f1ebf4;\n",
       "            color:  #000000;\n",
       "        }    #T_ca79c96e_8072_11e9_8616_3035ada66096row35_col0 {\n",
       "            background-color:  #f5eff6;\n",
       "            color:  #000000;\n",
       "        }    #T_ca79c96e_8072_11e9_8616_3035ada66096row36_col0 {\n",
       "            background-color:  #fff7fb;\n",
       "            color:  #000000;\n",
       "        }    #T_ca79c96e_8072_11e9_8616_3035ada66096row37_col0 {\n",
       "            background-color:  #fff7fb;\n",
       "            color:  #000000;\n",
       "        }</style><table id=\"T_ca79c96e_8072_11e9_8616_3035ada66096\" ><thead>    <tr>        <th class=\"blank level0\" ></th>        <th class=\"col_heading level0 col0\" >SalePrice</th>    </tr></thead><tbody>\n",
       "                <tr>\n",
       "                        <th id=\"T_ca79c96e_8072_11e9_8616_3035ada66096level0_row0\" class=\"row_heading level0 row0\" >SalePrice</th>\n",
       "                        <td id=\"T_ca79c96e_8072_11e9_8616_3035ada66096row0_col0\" class=\"data row0 col0\" >1</td>\n",
       "            </tr>\n",
       "            <tr>\n",
       "                        <th id=\"T_ca79c96e_8072_11e9_8616_3035ada66096level0_row1\" class=\"row_heading level0 row1\" >OverallQual</th>\n",
       "                        <td id=\"T_ca79c96e_8072_11e9_8616_3035ada66096row1_col0\" class=\"data row1 col0\" >0.817185</td>\n",
       "            </tr>\n",
       "            <tr>\n",
       "                        <th id=\"T_ca79c96e_8072_11e9_8616_3035ada66096level0_row2\" class=\"row_heading level0 row2\" >GrLivArea</th>\n",
       "                        <td id=\"T_ca79c96e_8072_11e9_8616_3035ada66096row2_col0\" class=\"data row2 col0\" >0.700927</td>\n",
       "            </tr>\n",
       "            <tr>\n",
       "                        <th id=\"T_ca79c96e_8072_11e9_8616_3035ada66096level0_row3\" class=\"row_heading level0 row3\" >GarageCars</th>\n",
       "                        <td id=\"T_ca79c96e_8072_11e9_8616_3035ada66096row3_col0\" class=\"data row3 col0\" >0.680625</td>\n",
       "            </tr>\n",
       "            <tr>\n",
       "                        <th id=\"T_ca79c96e_8072_11e9_8616_3035ada66096level0_row4\" class=\"row_heading level0 row4\" >GarageArea</th>\n",
       "                        <td id=\"T_ca79c96e_8072_11e9_8616_3035ada66096row4_col0\" class=\"data row4 col0\" >0.650888</td>\n",
       "            </tr>\n",
       "            <tr>\n",
       "                        <th id=\"T_ca79c96e_8072_11e9_8616_3035ada66096level0_row5\" class=\"row_heading level0 row5\" >TotalBsmtSF</th>\n",
       "                        <td id=\"T_ca79c96e_8072_11e9_8616_3035ada66096row5_col0\" class=\"data row5 col0\" >0.612134</td>\n",
       "            </tr>\n",
       "            <tr>\n",
       "                        <th id=\"T_ca79c96e_8072_11e9_8616_3035ada66096level0_row6\" class=\"row_heading level0 row6\" >1stFlrSF</th>\n",
       "                        <td id=\"T_ca79c96e_8072_11e9_8616_3035ada66096row6_col0\" class=\"data row6 col0\" >0.596981</td>\n",
       "            </tr>\n",
       "            <tr>\n",
       "                        <th id=\"T_ca79c96e_8072_11e9_8616_3035ada66096level0_row7\" class=\"row_heading level0 row7\" >FullBath</th>\n",
       "                        <td id=\"T_ca79c96e_8072_11e9_8616_3035ada66096row7_col0\" class=\"data row7 col0\" >0.594771</td>\n",
       "            </tr>\n",
       "            <tr>\n",
       "                        <th id=\"T_ca79c96e_8072_11e9_8616_3035ada66096level0_row8\" class=\"row_heading level0 row8\" >YearBuilt</th>\n",
       "                        <td id=\"T_ca79c96e_8072_11e9_8616_3035ada66096row8_col0\" class=\"data row8 col0\" >0.58657</td>\n",
       "            </tr>\n",
       "            <tr>\n",
       "                        <th id=\"T_ca79c96e_8072_11e9_8616_3035ada66096level0_row9\" class=\"row_heading level0 row9\" >YearRemodAdd</th>\n",
       "                        <td id=\"T_ca79c96e_8072_11e9_8616_3035ada66096row9_col0\" class=\"data row9 col0\" >0.565608</td>\n",
       "            </tr>\n",
       "            <tr>\n",
       "                        <th id=\"T_ca79c96e_8072_11e9_8616_3035ada66096level0_row10\" class=\"row_heading level0 row10\" >GarageYrBlt</th>\n",
       "                        <td id=\"T_ca79c96e_8072_11e9_8616_3035ada66096row10_col0\" class=\"data row10 col0\" >0.541073</td>\n",
       "            </tr>\n",
       "            <tr>\n",
       "                        <th id=\"T_ca79c96e_8072_11e9_8616_3035ada66096level0_row11\" class=\"row_heading level0 row11\" >TotRmsAbvGrd</th>\n",
       "                        <td id=\"T_ca79c96e_8072_11e9_8616_3035ada66096row11_col0\" class=\"data row11 col0\" >0.534422</td>\n",
       "            </tr>\n",
       "            <tr>\n",
       "                        <th id=\"T_ca79c96e_8072_11e9_8616_3035ada66096level0_row12\" class=\"row_heading level0 row12\" >Fireplaces</th>\n",
       "                        <td id=\"T_ca79c96e_8072_11e9_8616_3035ada66096row12_col0\" class=\"data row12 col0\" >0.48945</td>\n",
       "            </tr>\n",
       "            <tr>\n",
       "                        <th id=\"T_ca79c96e_8072_11e9_8616_3035ada66096level0_row13\" class=\"row_heading level0 row13\" >MasVnrArea</th>\n",
       "                        <td id=\"T_ca79c96e_8072_11e9_8616_3035ada66096row13_col0\" class=\"data row13 col0\" >0.430809</td>\n",
       "            </tr>\n",
       "            <tr>\n",
       "                        <th id=\"T_ca79c96e_8072_11e9_8616_3035ada66096level0_row14\" class=\"row_heading level0 row14\" >BsmtFinSF1</th>\n",
       "                        <td id=\"T_ca79c96e_8072_11e9_8616_3035ada66096row14_col0\" class=\"data row14 col0\" >0.372023</td>\n",
       "            </tr>\n",
       "            <tr>\n",
       "                        <th id=\"T_ca79c96e_8072_11e9_8616_3035ada66096level0_row15\" class=\"row_heading level0 row15\" >LotFrontage</th>\n",
       "                        <td id=\"T_ca79c96e_8072_11e9_8616_3035ada66096row15_col0\" class=\"data row15 col0\" >0.355879</td>\n",
       "            </tr>\n",
       "            <tr>\n",
       "                        <th id=\"T_ca79c96e_8072_11e9_8616_3035ada66096level0_row16\" class=\"row_heading level0 row16\" >WoodDeckSF</th>\n",
       "                        <td id=\"T_ca79c96e_8072_11e9_8616_3035ada66096row16_col0\" class=\"data row16 col0\" >0.334135</td>\n",
       "            </tr>\n",
       "            <tr>\n",
       "                        <th id=\"T_ca79c96e_8072_11e9_8616_3035ada66096level0_row17\" class=\"row_heading level0 row17\" >OpenPorchSF</th>\n",
       "                        <td id=\"T_ca79c96e_8072_11e9_8616_3035ada66096row17_col0\" class=\"data row17 col0\" >0.321053</td>\n",
       "            </tr>\n",
       "            <tr>\n",
       "                        <th id=\"T_ca79c96e_8072_11e9_8616_3035ada66096level0_row18\" class=\"row_heading level0 row18\" >2ndFlrSF</th>\n",
       "                        <td id=\"T_ca79c96e_8072_11e9_8616_3035ada66096row18_col0\" class=\"data row18 col0\" >0.3193</td>\n",
       "            </tr>\n",
       "            <tr>\n",
       "                        <th id=\"T_ca79c96e_8072_11e9_8616_3035ada66096level0_row19\" class=\"row_heading level0 row19\" >HalfBath</th>\n",
       "                        <td id=\"T_ca79c96e_8072_11e9_8616_3035ada66096row19_col0\" class=\"data row19 col0\" >0.313982</td>\n",
       "            </tr>\n",
       "            <tr>\n",
       "                        <th id=\"T_ca79c96e_8072_11e9_8616_3035ada66096level0_row20\" class=\"row_heading level0 row20\" >LotArea</th>\n",
       "                        <td id=\"T_ca79c96e_8072_11e9_8616_3035ada66096row20_col0\" class=\"data row20 col0\" >0.25732</td>\n",
       "            </tr>\n",
       "            <tr>\n",
       "                        <th id=\"T_ca79c96e_8072_11e9_8616_3035ada66096level0_row21\" class=\"row_heading level0 row21\" >BsmtFullBath</th>\n",
       "                        <td id=\"T_ca79c96e_8072_11e9_8616_3035ada66096row21_col0\" class=\"data row21 col0\" >0.236224</td>\n",
       "            </tr>\n",
       "            <tr>\n",
       "                        <th id=\"T_ca79c96e_8072_11e9_8616_3035ada66096level0_row22\" class=\"row_heading level0 row22\" >BsmtUnfSF</th>\n",
       "                        <td id=\"T_ca79c96e_8072_11e9_8616_3035ada66096row22_col0\" class=\"data row22 col0\" >0.221985</td>\n",
       "            </tr>\n",
       "            <tr>\n",
       "                        <th id=\"T_ca79c96e_8072_11e9_8616_3035ada66096level0_row23\" class=\"row_heading level0 row23\" >BedroomAbvGr</th>\n",
       "                        <td id=\"T_ca79c96e_8072_11e9_8616_3035ada66096row23_col0\" class=\"data row23 col0\" >0.209043</td>\n",
       "            </tr>\n",
       "            <tr>\n",
       "                        <th id=\"T_ca79c96e_8072_11e9_8616_3035ada66096level0_row24\" class=\"row_heading level0 row24\" >ScreenPorch</th>\n",
       "                        <td id=\"T_ca79c96e_8072_11e9_8616_3035ada66096row24_col0\" class=\"data row24 col0\" >0.121208</td>\n",
       "            </tr>\n",
       "            <tr>\n",
       "                        <th id=\"T_ca79c96e_8072_11e9_8616_3035ada66096level0_row25\" class=\"row_heading level0 row25\" >PoolArea</th>\n",
       "                        <td id=\"T_ca79c96e_8072_11e9_8616_3035ada66096row25_col0\" class=\"data row25 col0\" >0.0697979</td>\n",
       "            </tr>\n",
       "            <tr>\n",
       "                        <th id=\"T_ca79c96e_8072_11e9_8616_3035ada66096level0_row26\" class=\"row_heading level0 row26\" >MoSold</th>\n",
       "                        <td id=\"T_ca79c96e_8072_11e9_8616_3035ada66096row26_col0\" class=\"data row26 col0\" >0.0573295</td>\n",
       "            </tr>\n",
       "            <tr>\n",
       "                        <th id=\"T_ca79c96e_8072_11e9_8616_3035ada66096level0_row27\" class=\"row_heading level0 row27\" >3SsnPorch</th>\n",
       "                        <td id=\"T_ca79c96e_8072_11e9_8616_3035ada66096row27_col0\" class=\"data row27 col0\" >0.0549002</td>\n",
       "            </tr>\n",
       "            <tr>\n",
       "                        <th id=\"T_ca79c96e_8072_11e9_8616_3035ada66096level0_row28\" class=\"row_heading level0 row28\" >BsmtFinSF2</th>\n",
       "                        <td id=\"T_ca79c96e_8072_11e9_8616_3035ada66096row28_col0\" class=\"data row28 col0\" >0.00483229</td>\n",
       "            </tr>\n",
       "            <tr>\n",
       "                        <th id=\"T_ca79c96e_8072_11e9_8616_3035ada66096level0_row29\" class=\"row_heading level0 row29\" >BsmtHalfBath</th>\n",
       "                        <td id=\"T_ca79c96e_8072_11e9_8616_3035ada66096row29_col0\" class=\"data row29 col0\" >-0.00514924</td>\n",
       "            </tr>\n",
       "            <tr>\n",
       "                        <th id=\"T_ca79c96e_8072_11e9_8616_3035ada66096level0_row30\" class=\"row_heading level0 row30\" >Id</th>\n",
       "                        <td id=\"T_ca79c96e_8072_11e9_8616_3035ada66096row30_col0\" class=\"data row30 col0\" >-0.0179424</td>\n",
       "            </tr>\n",
       "            <tr>\n",
       "                        <th id=\"T_ca79c96e_8072_11e9_8616_3035ada66096level0_row31\" class=\"row_heading level0 row31\" >MiscVal</th>\n",
       "                        <td id=\"T_ca79c96e_8072_11e9_8616_3035ada66096row31_col0\" class=\"data row31 col0\" >-0.0200208</td>\n",
       "            </tr>\n",
       "            <tr>\n",
       "                        <th id=\"T_ca79c96e_8072_11e9_8616_3035ada66096level0_row32\" class=\"row_heading level0 row32\" >OverallCond</th>\n",
       "                        <td id=\"T_ca79c96e_8072_11e9_8616_3035ada66096row32_col0\" class=\"data row32 col0\" >-0.0368685</td>\n",
       "            </tr>\n",
       "            <tr>\n",
       "                        <th id=\"T_ca79c96e_8072_11e9_8616_3035ada66096level0_row33\" class=\"row_heading level0 row33\" >YrSold</th>\n",
       "                        <td id=\"T_ca79c96e_8072_11e9_8616_3035ada66096row33_col0\" class=\"data row33 col0\" >-0.0372629</td>\n",
       "            </tr>\n",
       "            <tr>\n",
       "                        <th id=\"T_ca79c96e_8072_11e9_8616_3035ada66096level0_row34\" class=\"row_heading level0 row34\" >LowQualFinSF</th>\n",
       "                        <td id=\"T_ca79c96e_8072_11e9_8616_3035ada66096row34_col0\" class=\"data row34 col0\" >-0.0379628</td>\n",
       "            </tr>\n",
       "            <tr>\n",
       "                        <th id=\"T_ca79c96e_8072_11e9_8616_3035ada66096level0_row35\" class=\"row_heading level0 row35\" >MSSubClass</th>\n",
       "                        <td id=\"T_ca79c96e_8072_11e9_8616_3035ada66096row35_col0\" class=\"data row35 col0\" >-0.0739592</td>\n",
       "            </tr>\n",
       "            <tr>\n",
       "                        <th id=\"T_ca79c96e_8072_11e9_8616_3035ada66096level0_row36\" class=\"row_heading level0 row36\" >KitchenAbvGr</th>\n",
       "                        <td id=\"T_ca79c96e_8072_11e9_8616_3035ada66096row36_col0\" class=\"data row36 col0\" >-0.147548</td>\n",
       "            </tr>\n",
       "            <tr>\n",
       "                        <th id=\"T_ca79c96e_8072_11e9_8616_3035ada66096level0_row37\" class=\"row_heading level0 row37\" >EnclosedPorch</th>\n",
       "                        <td id=\"T_ca79c96e_8072_11e9_8616_3035ada66096row37_col0\" class=\"data row37 col0\" >-0.14905</td>\n",
       "            </tr>\n",
       "    </tbody></table>"
      ],
      "text/plain": [
       "<pandas.io.formats.style.Styler at 0x122278ac8>"
      ]
     },
     "execution_count": 864,
     "metadata": {},
     "output_type": "execute_result"
    }
   ],
   "source": [
    "corr = train.corr()\n",
    "corr[['SalePrice']].sort_values(by='SalePrice',ascending=False).style.background_gradient()"
   ]
  },
  {
   "cell_type": "markdown",
   "metadata": {},
   "source": [
    "### This features contribute to same features,so I would be taking only one which has high corr i.e  GarageCars\n",
    "#### Moreover i think this are all the same observation having null values\n",
    "GarageYrBlt     159\n",
    "GarageFinish    159\n",
    "GarageCond      159\n",
    "GarageQual      159\n",
    "GarageType      157"
   ]
  },
  {
   "cell_type": "code",
   "execution_count": 865,
   "metadata": {},
   "outputs": [],
   "source": [
    "for col in (['GarageYrBlt','GarageFinish','GarageCond','GarageQual','GarageType']):\n",
    "    combine.drop(col,axis=1,inplace=True)"
   ]
  },
  {
   "cell_type": "markdown",
   "metadata": {},
   "source": [
    "### garage cars and garage area again are one and same thing"
   ]
  },
  {
   "cell_type": "code",
   "execution_count": 866,
   "metadata": {},
   "outputs": [],
   "source": [
    "combine.drop('GarageCars',axis=1,inplace=True)"
   ]
  },
  {
   "cell_type": "code",
   "execution_count": 867,
   "metadata": {},
   "outputs": [
    {
     "data": {
      "text/plain": [
       "BsmtCond         82\n",
       "BsmtExposure     82\n",
       "BsmtQual         81\n",
       "BsmtFinType2     80\n",
       "BsmtFinType1     79\n",
       "MasVnrType       24\n",
       "MasVnrArea       23\n",
       "MSZoning          4\n",
       "Functional        2\n",
       "Utilities         2\n",
       "BsmtHalfBath      2\n",
       "BsmtFullBath      2\n",
       "Electrical        1\n",
       "Exterior2nd       1\n",
       "BsmtUnfSF         1\n",
       "Exterior1st       1\n",
       "BsmtFinSF2        1\n",
       "BsmtFinSF1        1\n",
       "SaleType          1\n",
       "KitchenQual       1\n",
       "TotalBsmtSF       1\n",
       "GarageArea        1\n",
       "ExterQual         0\n",
       "FireplaceQu       0\n",
       "Fence             0\n",
       "Foundation        0\n",
       "FullBath          0\n",
       "YrSold            0\n",
       "CentralAir        0\n",
       "ExterCond         0\n",
       "EnclosedPorch     0\n",
       "Condition2        0\n",
       "Condition1        0\n",
       "HalfBath          0\n",
       "BldgType          0\n",
       "dtype: int64"
      ]
     },
     "execution_count": 867,
     "metadata": {},
     "output_type": "execute_result"
    }
   ],
   "source": [
    "(combine.isnull().sum().sort_values(ascending=False)).head(35)"
   ]
  },
  {
   "cell_type": "code",
   "execution_count": 868,
   "metadata": {},
   "outputs": [],
   "source": [
    "for col in (['BsmtCond','BsmtExposure','BsmtQual','BsmtFinType2','BsmtFinType1']):\n",
    "    combine.drop(col,axis=1,inplace=True)"
   ]
  },
  {
   "cell_type": "code",
   "execution_count": 869,
   "metadata": {},
   "outputs": [
    {
     "data": {
      "text/plain": [
       "MasVnrType      24\n",
       "MasVnrArea      23\n",
       "MSZoning         4\n",
       "BsmtFullBath     2\n",
       "Functional       2\n",
       "Utilities        2\n",
       "BsmtHalfBath     2\n",
       "KitchenQual      1\n",
       "GarageArea       1\n",
       "Exterior2nd      1\n",
       "Exterior1st      1\n",
       "BsmtUnfSF        1\n",
       "Electrical       1\n",
       "BsmtFinSF2       1\n",
       "TotalBsmtSF      1\n",
       "dtype: int64"
      ]
     },
     "execution_count": 869,
     "metadata": {},
     "output_type": "execute_result"
    }
   ],
   "source": [
    "(combine.isnull().sum().sort_values(ascending=False)).head(15)"
   ]
  },
  {
   "cell_type": "code",
   "execution_count": 870,
   "metadata": {},
   "outputs": [],
   "source": [
    "combine.drop('MasVnrType',axis=1,inplace=True)"
   ]
  },
  {
   "cell_type": "code",
   "execution_count": 871,
   "metadata": {},
   "outputs": [],
   "source": [
    "combine['MasVnrArea'] = combine['MasVnrArea'].fillna(np.mean(combine['MasVnrArea']))"
   ]
  },
  {
   "cell_type": "code",
   "execution_count": 872,
   "metadata": {},
   "outputs": [
    {
     "data": {
      "text/plain": [
       "0.004453579993148339"
      ]
     },
     "execution_count": 872,
     "metadata": {},
     "output_type": "execute_result"
    }
   ],
   "source": [
    "(combine.shape[0]-(combine.dropna()).shape[0])/combine.shape[0]"
   ]
  },
  {
   "cell_type": "code",
   "execution_count": 873,
   "metadata": {},
   "outputs": [],
   "source": [
    "#we can drop these observations\n",
    "combine.dropna(subset=[],inplace=True)"
   ]
  },
  {
   "cell_type": "code",
   "execution_count": 874,
   "metadata": {},
   "outputs": [
    {
     "data": {
      "text/plain": [
       "1stFlrSF        0\n",
       "2ndFlrSF        0\n",
       "3SsnPorch       0\n",
       "Alley           0\n",
       "BedroomAbvGr    0\n",
       "dtype: int64"
      ]
     },
     "execution_count": 874,
     "metadata": {},
     "output_type": "execute_result"
    }
   ],
   "source": [
    "combine.isnull().sum().head(5)"
   ]
  },
  {
   "cell_type": "markdown",
   "metadata": {},
   "source": [
    "### we could add total area as a feature"
   ]
  },
  {
   "cell_type": "code",
   "execution_count": 875,
   "metadata": {},
   "outputs": [],
   "source": [
    "combine['TotalArea'] = combine['TotalBsmtSF'] + combine['1stFlrSF'] +  combine['2ndFlrSF']"
   ]
  },
  {
   "cell_type": "code",
   "execution_count": 876,
   "metadata": {},
   "outputs": [
    {
     "data": {
      "text/plain": [
       "MiscVal          21.958480\n",
       "PoolQC           17.005900\n",
       "PoolArea         16.907017\n",
       "LotArea          12.829025\n",
       "LowQualFinSF     12.094977\n",
       "3SsnPorch        11.381914\n",
       "MiscFeature       4.986267\n",
       "KitchenAbvGr      4.304467\n",
       "BsmtFinSF2        4.147456\n",
       "EnclosedPorch     4.005950\n",
       "ScreenPorch       3.948723\n",
       "BsmtHalfBath      3.932018\n",
       "Alley             3.439091\n",
       "MasVnrArea        2.612892\n",
       "OpenPorchSF       2.536417\n",
       "WoodDeckSF        1.843380\n",
       "LotFrontage       1.646420\n",
       "Fence             1.535478\n",
       "TotalArea         1.516129\n",
       "1stFlrSF          1.470360\n",
       "BsmtFinSF1        1.425722\n",
       "MSSubClass        1.376165\n",
       "GrLivArea         1.270010\n",
       "TotalBsmtSF       1.162882\n",
       "BsmtUnfSF         0.919824\n",
       "2ndFlrSF          0.862118\n",
       "TotRmsAbvGrd      0.758757\n",
       "HalfBath          0.694924\n",
       "BsmtFullBath      0.624062\n",
       "OverallCond       0.570605\n",
       "BedroomAbvGr      0.326492\n",
       "GarageArea        0.241301\n",
       "OverallQual       0.197212\n",
       "MoSold            0.195985\n",
       "FullBath          0.167692\n",
       "YrSold            0.132467\n",
       "Id                0.000000\n",
       "FireplaceQu      -0.054176\n",
       "YearRemodAdd     -0.451252\n",
       "YearBuilt        -0.600114\n",
       "dtype: float64"
      ]
     },
     "execution_count": 876,
     "metadata": {},
     "output_type": "execute_result"
    }
   ],
   "source": [
    "combine.skew().sort_values(ascending=False)"
   ]
  },
  {
   "cell_type": "code",
   "execution_count": 877,
   "metadata": {},
   "outputs": [],
   "source": [
    "data = pd.get_dummies(combine)"
   ]
  },
  {
   "cell_type": "code",
   "execution_count": 917,
   "metadata": {},
   "outputs": [],
   "source": [
    "traindata = data[0:1200]\n",
    "valdata=data[1200:1460]\n",
    "testdata = data [1460:-1]"
   ]
  },
  {
   "cell_type": "code",
   "execution_count": 918,
   "metadata": {},
   "outputs": [],
   "source": [
    "def cost(x,y,theta):\n",
    "    return np.sum(np.power(x*theta.T-y,2))/(2*x.shape[0])"
   ]
  },
  {
   "cell_type": "code",
   "execution_count": 919,
   "metadata": {},
   "outputs": [],
   "source": [
    "def gradDescent(x,y,theta,iterations,alpha):\n",
    "    costf=[]\n",
    "    m=x.shape[0]\n",
    "    for i in range(iterations):\n",
    "        error = x*theta.T-y\n",
    "        temp = error*alpha/m\n",
    "        theta = theta- temp.T*x\n",
    "        costf.append(cost(x,y,theta))\n",
    "        \n",
    "    return costf,theta"
   ]
  },
  {
   "cell_type": "code",
   "execution_count": 920,
   "metadata": {},
   "outputs": [],
   "source": [
    "x1 = (traindata - np.mean(traindata)/np.std(traindata))\n",
    "x2 = (valdata - np.mean(valdata)/np.std(valdata))"
   ]
  },
  {
   "cell_type": "code",
   "execution_count": 921,
   "metadata": {},
   "outputs": [],
   "source": [
    "corr = pd.concat([traindata,train.SalePrice],sort=False,axis=1,join='inner').corr()\n",
    "cols=corr[corr['SalePrice']>0.5].sort_values(by='SalePrice',ascending=False)['SalePrice'].index[1:]"
   ]
  },
  {
   "cell_type": "code",
   "execution_count": 922,
   "metadata": {},
   "outputs": [],
   "source": [
    "y = pd.concat([traindata,train.SalePrice],sort=False,axis=1,join='inner').SalePrice\n",
    "y = np.matrix((y).astype('float64')).T\n",
    "x=x1\n",
    "for col in x.columns.values:\n",
    "    if col not in cols.values:\n",
    "        x.drop(col,axis=1,inplace=True)\n",
    "ones  = pd.Series(np.ones(x1.shape[0]))\n",
    "x.insert(0,'ones',value=ones)\n",
    "x = np.matrix(x).astype('float64')\n",
    "theta = np.matrix(np.zeros(x.shape[1])).astype('float64')\n",
    "m=x.shape[0]\n",
    "alpha=0.0000000005\n",
    "iterations=1000"
   ]
  },
  {
   "cell_type": "code",
   "execution_count": 923,
   "metadata": {},
   "outputs": [
    {
     "data": {
      "text/plain": [
       "((1200, 14), (1200, 1), (1, 14))"
      ]
     },
     "execution_count": 923,
     "metadata": {},
     "output_type": "execute_result"
    }
   ],
   "source": [
    "x.shape,y.shape,theta.shape\n"
   ]
  },
  {
   "cell_type": "code",
   "execution_count": 924,
   "metadata": {},
   "outputs": [
    {
     "data": {
      "text/plain": [
       "72.38007958591884"
      ]
     },
     "execution_count": 924,
     "metadata": {},
     "output_type": "execute_result"
    }
   ],
   "source": [
    "cost(x,y,theta)"
   ]
  },
  {
   "cell_type": "code",
   "execution_count": 925,
   "metadata": {},
   "outputs": [],
   "source": [
    "costf,theta=gradDescent(x,y,theta,iterations,alpha)"
   ]
  },
  {
   "cell_type": "code",
   "execution_count": 926,
   "metadata": {},
   "outputs": [
    {
     "data": {
      "image/png": "[encoded data removed]",
      "text/plain": [
       "<Figure size 432x288 with 1 Axes>"
      ]
     },
     "metadata": {
      "needs_background": "light"
     },
     "output_type": "display_data"
    }
   ],
   "source": [
    "plt.plot(range(iterations),costf)\n",
    "plt.grid(True)\n",
    "plt.show()"
   ]
  },
  {
   "cell_type": "code",
   "execution_count": 927,
   "metadata": {},
   "outputs": [
    {
     "data": {
      "text/plain": [
       "1.3065944066832698"
      ]
     },
     "execution_count": 927,
     "metadata": {},
     "output_type": "execute_result"
    }
   ],
   "source": [
    "costf[-1]"
   ]
  },
  {
   "cell_type": "code",
   "execution_count": 928,
   "metadata": {},
   "outputs": [],
   "source": [
    "valy = pd.concat([valdata,train.SalePrice],sort=False,axis=1,join='inner').SalePrice\n",
    "valy = np.matrix((valy).astype('float64')).T\n",
    "valx= x2\n",
    "for col in valx.columns.values:\n",
    "    if col not in cols.values:\n",
    "        valx.drop(col,axis=1,inplace=True)\n",
    "valx.insert(0,'Ones',1)"
   ]
  },
  {
   "cell_type": "code",
   "execution_count": 929,
   "metadata": {},
   "outputs": [],
   "source": [
    "predicted=(np.matrix(valx)*theta.T)\n",
    "predicted = np.matrix((predicted).astype('float64'))\n"
   ]
  },
  {
   "cell_type": "code",
   "execution_count": 930,
   "metadata": {},
   "outputs": [
    {
     "data": {
      "text/plain": [
       "((260, 1), (260, 1))"
      ]
     },
     "execution_count": 930,
     "metadata": {},
     "output_type": "execute_result"
    }
   ],
   "source": [
    "predicted.shape,valy.shape"
   ]
  },
  {
   "cell_type": "code",
   "execution_count": 931,
   "metadata": {},
   "outputs": [
    {
     "data": {
      "text/plain": [
       "2.0245909251703718"
      ]
     },
     "execution_count": 931,
     "metadata": {},
     "output_type": "execute_result"
    }
   ],
   "source": [
    "t=predicted-valy\n",
    "np.sqrt(np.divide(np.sum(np.multiply(t,t)),predicted.shape[0]))"
   ]
  },
  {
   "cell_type": "code",
   "execution_count": 932,
   "metadata": {},
   "outputs": [],
   "source": [
    "x3 = (testdata - np.mean(testdata)/np.std(testdata))\n",
    "testx=x3\n",
    "for col in testx.columns.values:\n",
    "    if col not in cols.values:\n",
    "        testx.drop(col,axis=1,inplace=True)\n",
    "testx.insert(0,'Ones',1)"
   ]
  },
  {
   "cell_type": "code",
   "execution_count": 933,
   "metadata": {},
   "outputs": [],
   "source": [
    "answer=(np.matrix(testx)*theta.T)\n",
    "answer = np.matrix((answer).astype('float64'))"
   ]
  },
  {
   "cell_type": "code",
   "execution_count": 934,
   "metadata": {},
   "outputs": [],
   "source": [
    "x3['SalePrice'] = answer"
   ]
  },
  {
   "cell_type": "code",
   "execution_count": 935,
   "metadata": {},
   "outputs": [],
   "source": [
    "final=np.exp(x3[['SalePrice']])"
   ]
  },
  {
   "cell_type": "code",
   "execution_count": 936,
   "metadata": {},
   "outputs": [],
   "source": [
    "final.index = range(1461,2919)"
   ]
  },
  {
   "cell_type": "code",
   "execution_count": 937,
   "metadata": {},
   "outputs": [],
   "source": [
    "final.to_csv('output.csv')"
   ]
  },
  {
   "cell_type": "code",
   "execution_count": null,
   "metadata": {},
   "outputs": [],
   "source": []
  },
  {
   "cell_type": "code",
   "execution_count": null,
   "metadata": {},
   "outputs": [],
   "source": []
  },
  {
   "cell_type": "code",
   "execution_count": null,
   "metadata": {},
   "outputs": [],
   "source": []
  },
  {
   "cell_type": "code",
   "execution_count": 938,
   "metadata": {},
   "outputs": [],
   "source": [
    "from sklearn.metrics import mean_squared_error\n",
    "from sklearn.ensemble import RandomForestRegressor\n",
    "from sklearn.model_selection import train_test_split"
   ]
  },
  {
   "cell_type": "markdown",
   "metadata": {},
   "source": [
    "### forestOutput using Correlation\n",
    "### commet below if now using\n"
   ]
  },
  {
   "cell_type": "code",
   "execution_count": 972,
   "metadata": {},
   "outputs": [],
   "source": [
    "for col in data.columns.values:\n",
    "    if col not in cols.values:\n",
    "        data.drop(col,axis=1,inplace=True)"
   ]
  },
  {
   "cell_type": "code",
   "execution_count": 966,
   "metadata": {},
   "outputs": [],
   "source": [
    "y=pd.concat([data[0:1460],train.SalePrice],sort=False,axis=1,join='inner').SalePrice\n",
    "train_X, valid_X, train_y, valid_y = train_test_split(data[0:1460], y, random_state=1)"
   ]
  },
  {
   "cell_type": "code",
   "execution_count": 967,
   "metadata": {},
   "outputs": [
    {
     "name": "stderr",
     "output_type": "stream",
     "text": [
      "/Users/rushikesh/anaconda3/lib/python3.6/site-packages/sklearn/ensemble/forest.py:246: FutureWarning: The default value of n_estimators will change from 10 in version 0.20 to 100 in 0.22.\n",
      "  \"10 in version 0.20 to 100 in 0.22.\", FutureWarning)\n"
     ]
    },
    {
     "data": {
      "text/plain": [
       "0.16918212570736624"
      ]
     },
     "execution_count": 967,
     "metadata": {},
     "output_type": "execute_result"
    }
   ],
   "source": [
    "train_model = RandomForestRegressor()\n",
    "train_model.fit(train_X, train_y)\n",
    "\n",
    "val_pred = train_model.predict(valid_X)\n",
    "\n",
    "rmse = np.sqrt(mean_squared_error(valid_y, val_pred))\n",
    "rmse"
   ]
  },
  {
   "cell_type": "code",
   "execution_count": 973,
   "metadata": {},
   "outputs": [],
   "source": [
    "testdata = data [1460:-1]\n",
    "for col in testdata.columns.values:\n",
    "    if col not in cols.values:\n",
    "        testdata.drop(col,axis=1,inplace=True)"
   ]
  },
  {
   "cell_type": "code",
   "execution_count": 974,
   "metadata": {},
   "outputs": [
    {
     "name": "stderr",
     "output_type": "stream",
     "text": [
      "/Users/rushikesh/anaconda3/lib/python3.6/site-packages/pandas/core/frame.py:4034: SettingWithCopyWarning: \n",
      "A value is trying to be set on a copy of a slice from a DataFrame\n",
      "\n",
      "See the caveats in the documentation: http://pandas.pydata.org/pandas-docs/stable/indexing.html#indexing-view-versus-copy\n",
      "  downcast=downcast, **kwargs)\n"
     ]
    }
   ],
   "source": [
    "\n",
    "testdata.fillna(0,inplace=True)"
   ]
  },
  {
   "cell_type": "code",
   "execution_count": 975,
   "metadata": {},
   "outputs": [],
   "source": [
    "outputdp = pd.DataFrame(data=final_pred,index=range(1461,2919),columns=['SalePrice'])"
   ]
  },
  {
   "cell_type": "code",
   "execution_count": 976,
   "metadata": {},
   "outputs": [],
   "source": [
    "outputdp.to_csv('forestoutput2.csv')"
   ]
  },
  {
   "cell_type": "code",
   "execution_count": null,
   "metadata": {},
   "outputs": [],
   "source": []
  }
 ],
 "metadata": {
  "kernelspec": {
   "display_name": "Python 3",
   "language": "python",
   "name": "python3"
  },
  "language_info": {
   "codemirror_mode": {
    "name": "ipython",
    "version": 3
   },
   "file_extension": ".py",
   "mimetype": "text/x-python",
   "name": "python",
   "nbconvert_exporter": "python",
   "pygments_lexer": "ipython3",
   "version": "3.6.8"
  }
 },
 "nbformat": 4,
 "nbformat_minor": 2
}
